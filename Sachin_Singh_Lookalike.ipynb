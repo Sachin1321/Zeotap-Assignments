{
  "nbformat": 4,
  "nbformat_minor": 0,
  "metadata": {
    "colab": {
      "provenance": []
    },
    "kernelspec": {
      "name": "python3",
      "display_name": "Python 3"
    },
    "language_info": {
      "name": "python"
    }
  },
  "cells": [
    {
      "cell_type": "markdown",
      "source": [
        "# **Task 2: Lookalike Model**"
      ],
      "metadata": {
        "id": "NKHB_2Jdv3He"
      }
    },
    {
      "cell_type": "markdown",
      "source": [
        "**Step 1: Import Required Libraries**\n",
        "\n",
        "Ensure all the necessary libraries are imported."
      ],
      "metadata": {
        "id": "ROq4OrZFv3EJ"
      }
    },
    {
      "cell_type": "code",
      "source": [
        "import pandas as pd\n",
        "import numpy as np\n",
        "from sklearn.preprocessing import StandardScaler\n",
        "from sklearn.metrics.pairwise import cosine_similarity"
      ],
      "metadata": {
        "id": "8viVkVLbswLo"
      },
      "execution_count": null,
      "outputs": []
    },
    {
      "cell_type": "markdown",
      "source": [
        "**Step 2: Load and Merge Datasets**\n",
        "\n",
        "Load the Customers.csv, Products.csv, and Transactions.csv datasets and merge them to create a complete dataset."
      ],
      "metadata": {
        "id": "qlxuKH0Vybv4"
      }
    },
    {
      "cell_type": "code",
      "source": [
        "# Load datasets\n",
        "customers = pd.read_csv(\"Customers.csv\")\n",
        "products = pd.read_csv(\"Products.csv\")\n",
        "transactions = pd.read_csv(\"Transactions.csv\")\n",
        "\n",
        "# Merge datasets\n",
        "merged = pd.merge(transactions, customers, on=\"CustomerID\", how=\"left\")\n",
        "merged = pd.merge(merged, products, on=\"ProductID\", how=\"left\")\n",
        "\n",
        "# Check the structure\n",
        "print(merged.head())"
      ],
      "metadata": {
        "colab": {
          "base_uri": "https://localhost:8080/"
        },
        "id": "r62ix18_sxzD",
        "outputId": "ecc5ce87-6d1b-4f19-fdf9-e69c92b57b3d"
      },
      "execution_count": null,
      "outputs": [
        {
          "output_type": "stream",
          "name": "stdout",
          "text": [
            "  TransactionID CustomerID ProductID   TransactionDate  Quantity  TotalValue  \\\n",
            "0        T00001      C0199      P067  25-08-2024 12:38         1      300.68   \n",
            "1        T00112      C0146      P067  27-05-2024 22:23         1      300.68   \n",
            "2        T00166      C0127      P067  25-04-2024 07:38         1      300.68   \n",
            "3        T00272      C0087      P067  26-03-2024 22:55         2      601.36   \n",
            "4        T00363      C0070      P067  21-03-2024 15:10         3      902.04   \n",
            "\n",
            "   Price_x     CustomerName         Region  SignupDate  \\\n",
            "0   300.68   Andrea Jenkins         Europe  03-12-2022   \n",
            "1   300.68  Brittany Harvey           Asia  04-09-2024   \n",
            "2   300.68  Kathryn Stevens         Europe  04-04-2024   \n",
            "3   300.68  Travis Campbell  South America  11-04-2024   \n",
            "4   300.68    Timothy Perez         Europe  15-03-2022   \n",
            "\n",
            "                       ProductName     Category  Price_y  \n",
            "0  ComfortLiving Bluetooth Speaker  Electronics   300.68  \n",
            "1  ComfortLiving Bluetooth Speaker  Electronics   300.68  \n",
            "2  ComfortLiving Bluetooth Speaker  Electronics   300.68  \n",
            "3  ComfortLiving Bluetooth Speaker  Electronics   300.68  \n",
            "4  ComfortLiving Bluetooth Speaker  Electronics   300.68  \n"
          ]
        }
      ]
    },
    {
      "cell_type": "markdown",
      "source": [
        "**Step 3: Create Customer Profiles**\n",
        "\n",
        "Aggregate transaction and product information to create customer profiles. This includes total spending (TotalValue), total quantity of products purchased (Quantity), and average product price."
      ],
      "metadata": {
        "id": "XyJiLY3vyon-"
      }
    },
    {
      "cell_type": "markdown",
      "source": [
        "3.1 - Verify the Columns in merged\n",
        "\n",
        "Print the columns of the merged DataFrame to confirm what exists."
      ],
      "metadata": {
        "id": "NUJ5ItAW1Yd0"
      }
    },
    {
      "cell_type": "code",
      "source": [
        "print(merged.columns)"
      ],
      "metadata": {
        "colab": {
          "base_uri": "https://localhost:8080/"
        },
        "id": "EY8W5Fp2tiVb",
        "outputId": "d5482377-0836-4d61-ea5b-09ea2b9cf5ec"
      },
      "execution_count": null,
      "outputs": [
        {
          "output_type": "stream",
          "name": "stdout",
          "text": [
            "Index(['TransactionID', 'CustomerID', 'ProductID', 'TransactionDate',\n",
            "       'Quantity', 'TotalValue', 'Price_x', 'CustomerName', 'Region',\n",
            "       'SignupDate', 'ProductName', 'Category', 'Price_y'],\n",
            "      dtype='object')\n"
          ]
        }
      ]
    },
    {
      "cell_type": "markdown",
      "source": [
        "3.2 - Resolve Conflicts in Column Names\n",
        "\n",
        "During the merging process, if both Transactions.csv and Products.csv contain a Price column, pandas will append suffixes to distinguish them. For example:\n",
        "\n",
        "Price_x: The Price column from Transactions.csv.\n",
        "Price_y: The Price column from Products.csv.\n",
        "Fix this by renaming or selecting the correct column:"
      ],
      "metadata": {
        "id": "yqrLsS9u1UQL"
      }
    },
    {
      "cell_type": "code",
      "source": [
        "# Check for Price column\n",
        "if 'Price_x' in merged.columns and 'Price_y' in merged.columns:\n",
        "    merged['Price'] = merged['Price_x']  # Or choose 'Price_y' if appropriate"
      ],
      "metadata": {
        "id": "3lRuXT79tkKg"
      },
      "execution_count": null,
      "outputs": []
    },
    {
      "cell_type": "markdown",
      "source": [
        "3.3 - Create customer_profile\n",
        "\n",
        "After confirming the column names and fixing any issues, recreate the customer_profile."
      ],
      "metadata": {
        "id": "XAWtdTfB12Cy"
      }
    },
    {
      "cell_type": "code",
      "source": [
        "# Create customer profiles\n",
        "customer_profile = merged.groupby('CustomerID').agg({\n",
        "    'TotalValue': 'sum',  # Total spending\n",
        "    'Quantity': 'sum',    # Total quantity purchased\n",
        "    'Price': 'mean'       # Average price of purchased products\n",
        "}).reset_index()\n",
        "\n",
        "print(customer_profile.head())"
      ],
      "metadata": {
        "colab": {
          "base_uri": "https://localhost:8080/"
        },
        "id": "17zMczzSsxvq",
        "outputId": "7bcbe6fc-fad2-4b88-dc6a-14552d7fc2e6"
      },
      "execution_count": null,
      "outputs": [
        {
          "output_type": "stream",
          "name": "stdout",
          "text": [
            "  CustomerID  TotalValue  Quantity       Price\n",
            "0      C0001     3354.52        12  278.334000\n",
            "1      C0002     1862.74        10  208.920000\n",
            "2      C0003     2725.38        14  195.707500\n",
            "3      C0004     5354.88        23  240.636250\n",
            "4      C0005     2034.24         7  291.603333\n"
          ]
        }
      ]
    },
    {
      "cell_type": "markdown",
      "source": [
        "**Step 4: Normalize Features**\n",
        "\n",
        "Normalize the numerical features (TotalValue, Quantity, and Price) for similarity calculation."
      ],
      "metadata": {
        "id": "LZNVBXtnzJty"
      }
    },
    {
      "cell_type": "code",
      "source": [
        "# Normalize features\n",
        "scaler = StandardScaler()\n",
        "customer_features = scaler.fit_transform(customer_profile[['TotalValue', 'Quantity', 'Price']])"
      ],
      "metadata": {
        "id": "T5-IeCLnsxsP"
      },
      "execution_count": null,
      "outputs": []
    },
    {
      "cell_type": "markdown",
      "source": [
        "**Step 5: Calculate Similarity Matrix**\n",
        "\n",
        "Compute the similarity between all customers using cosine similarity."
      ],
      "metadata": {
        "id": "U3uSGKItzYOe"
      }
    },
    {
      "cell_type": "code",
      "source": [
        "# Calculate similarity matrix\n",
        "similarity_matrix = cosine_similarity(customer_features)\n",
        "\n",
        "# Convert similarity matrix into a DataFrame\n",
        "similarity_df = pd.DataFrame(similarity_matrix, index=customer_profile['CustomerID'], columns=customer_profile['CustomerID'])\n",
        "print(similarity_df.head())"
      ],
      "metadata": {
        "colab": {
          "base_uri": "https://localhost:8080/"
        },
        "id": "E_JOUISWsxom",
        "outputId": "a848fdb2-b9b7-4d03-8ea1-87926e337a9f"
      },
      "execution_count": null,
      "outputs": [
        {
          "output_type": "stream",
          "name": "stdout",
          "text": [
            "CustomerID     C0001     C0002     C0003     C0004     C0005     C0006  \\\n",
            "CustomerID                                                               \n",
            "C0001       1.000000  0.104513 -0.524923 -0.925208  0.909351  0.442395   \n",
            "C0002       0.104513  1.000000  0.791531 -0.464035  0.506433 -0.844066   \n",
            "C0003      -0.524923  0.791531  1.000000  0.172432 -0.124725 -0.994780   \n",
            "C0004      -0.925208 -0.464035  0.172432  1.000000 -0.990272 -0.083333   \n",
            "C0005       0.909351  0.506433 -0.124725 -0.990272  1.000000  0.029596   \n",
            "\n",
            "CustomerID     C0007     C0008     C0009     C0010  ...     C0191     C0192  \\\n",
            "CustomerID                                          ...                       \n",
            "C0001       0.957854 -0.980620  0.885035 -0.268370  ...  0.953552  0.875392   \n",
            "C0002      -0.126391 -0.208586  0.552510  0.929885  ...  0.366172  0.561020   \n",
            "C0003      -0.694381  0.426063 -0.070251  0.960431  ... -0.270712 -0.056387   \n",
            "C0004      -0.786871  0.960972 -0.985116 -0.108724  ... -0.969254 -0.975266   \n",
            "C0005       0.784580 -0.928571  0.998476  0.153760  ...  0.984067  0.995941   \n",
            "\n",
            "CustomerID     C0193     C0194     C0195     C0196     C0197     C0198  \\\n",
            "CustomerID                                                               \n",
            "C0001       0.590772 -0.928283 -0.999064  0.431472  0.322620  0.656770   \n",
            "C0002       0.854971  0.076219 -0.068506 -0.850966  0.974669  0.812601   \n",
            "C0003       0.367126  0.631312  0.555466 -0.992705  0.635507  0.290662   \n",
            "C0004      -0.851778  0.765946  0.913077 -0.062481 -0.650336 -0.892231   \n",
            "C0005       0.861752 -0.786650 -0.892508  0.021657  0.683538  0.902453   \n",
            "\n",
            "CustomerID     C0199     C0200  \n",
            "CustomerID                      \n",
            "C0001       0.543288 -0.470679  \n",
            "C0002       0.889215 -0.926208  \n",
            "C0003       0.427997 -0.503792  \n",
            "C0004      -0.806156  0.758721  \n",
            "C0005       0.843168 -0.794058  \n",
            "\n",
            "[5 rows x 199 columns]\n"
          ]
        }
      ]
    },
    {
      "cell_type": "markdown",
      "source": [
        "**Step 6: Find Top 3 Lookalikes for Each Customer**\n",
        "\n",
        "For each customer, find the top 3 most similar customers and their similarity scores:"
      ],
      "metadata": {
        "id": "PE9c0sokzctp"
      }
    },
    {
      "cell_type": "code",
      "source": [
        "lookalikes = {}\n",
        "\n",
        "# Loop through the first 20 customers (C0001 - C0020)\n",
        "for customer_id in customer_profile['CustomerID'][:20]:\n",
        "    # Get similarity scores for the current customer\n",
        "    scores = similarity_df[customer_id].sort_values(ascending=False)\n",
        "\n",
        "    # Exclude the customer itself and pick the top 3\n",
        "    top_3 = scores.iloc[1:4]  # Skip the first (self-similarity)\n",
        "\n",
        "    # Store the results in the lookalikes dictionary\n",
        "    lookalikes[customer_id] = list(zip(top_3.index, top_3.values))\n",
        "\n",
        "# Convert lookalikes dictionary to a DataFrame\n",
        "lookalikes_df = pd.DataFrame({\n",
        "    'CustomerID': lookalikes.keys(),\n",
        "    'Lookalikes': lookalikes.values()\n",
        "})\n",
        "print(lookalikes_df.head())"
      ],
      "metadata": {
        "colab": {
          "base_uri": "https://localhost:8080/"
        },
        "id": "4nCbM5Wqsxl7",
        "outputId": "de05af5e-f079-4232-e989-b57399b8f3f1"
      },
      "execution_count": null,
      "outputs": [
        {
          "output_type": "stream",
          "name": "stdout",
          "text": [
            "  CustomerID                                         Lookalikes\n",
            "0      C0001  [(C0103, 0.9975729385618538), (C0092, 0.996878...\n",
            "1      C0002  [(C0029, 0.9998543931340029), (C0077, 0.996103...\n",
            "2      C0003  [(C0111, 0.9984874468302141), (C0190, 0.996656...\n",
            "3      C0004  [(C0165, 0.9983897071764074), (C0162, 0.998086...\n",
            "4      C0005  [(C0167, 0.9999721868436701), (C0020, 0.999714...\n"
          ]
        }
      ]
    },
    {
      "cell_type": "markdown",
      "source": [
        "**Step 7: Save Results**\n",
        "\n",
        "Save the lookalike recommendations into Lookalike.csv:"
      ],
      "metadata": {
        "id": "ZMS13dp5zhUq"
      }
    },
    {
      "cell_type": "code",
      "source": [
        "lookalikes_df.to_csv(\"Lookalike.csv\", index=False)"
      ],
      "metadata": {
        "id": "82cDNQprsxkC"
      },
      "execution_count": null,
      "outputs": []
    },
    {
      "cell_type": "markdown",
      "source": [
        "Step 8: Validate the Results"
      ],
      "metadata": {
        "id": "naSjRWaEziQ3"
      }
    },
    {
      "cell_type": "code",
      "source": [
        "for idx, row in lookalikes_df.iterrows():\n",
        "    print(f\"Customer: {row['CustomerID']} -> Lookalikes: {row['Lookalikes']}\")"
      ],
      "metadata": {
        "colab": {
          "base_uri": "https://localhost:8080/"
        },
        "id": "tA6RV8tesxgo",
        "outputId": "606f6f99-33fc-4928-ca4a-d69b21691bd6"
      },
      "execution_count": null,
      "outputs": [
        {
          "output_type": "stream",
          "name": "stdout",
          "text": [
            "Customer: C0001 -> Lookalikes: [('C0103', 0.9975729385618538), ('C0092', 0.9968787968825864), ('C0135', 0.9927364238882178)]\n",
            "Customer: C0002 -> Lookalikes: [('C0029', 0.9998543931340029), ('C0077', 0.9961038168882547), ('C0157', 0.9954784900159904)]\n",
            "Customer: C0003 -> Lookalikes: [('C0111', 0.9984874468302141), ('C0190', 0.9966561574371822), ('C0038', 0.9901332836738033)]\n",
            "Customer: C0004 -> Lookalikes: [('C0165', 0.9983897071764074), ('C0162', 0.9980867096016259), ('C0075', 0.996932345616167)]\n",
            "Customer: C0005 -> Lookalikes: [('C0167', 0.9999721868436701), ('C0020', 0.99971426883456), ('C0128', 0.9987615592886807)]\n",
            "Customer: C0006 -> Lookalikes: [('C0168', 0.9976122332196319), ('C0196', 0.9950250564515252), ('C0187', 0.9947524750205508)]\n",
            "Customer: C0007 -> Lookalikes: [('C0125', 0.9998486580402707), ('C0089', 0.99834375759003), ('C0085', 0.9960335186380587)]\n",
            "Customer: C0008 -> Lookalikes: [('C0084', 0.9960866913262758), ('C0113', 0.9958170325568012), ('C0017', 0.993173208985394)]\n",
            "Customer: C0009 -> Lookalikes: [('C0130', 0.9999651017117013), ('C0128', 0.9985963548763069), ('C0192', 0.9985908489461927)]\n",
            "Customer: C0010 -> Lookalikes: [('C0176', 0.9994511608148322), ('C0055', 0.9938405529191887), ('C0174', 0.9927444551206617)]\n",
            "Customer: C0011 -> Lookalikes: [('C0023', 0.9991440715038482), ('C0139', 0.986516222171265), ('C0100', 0.9850016770913713)]\n",
            "Customer: C0012 -> Lookalikes: [('C0101', 0.9999587274161242), ('C0093', 0.9996220951792167), ('C0153', 0.9994774664125199)]\n",
            "Customer: C0013 -> Lookalikes: [('C0021', 0.9996872905926021), ('C0141', 0.9977202433858623), ('C0059', 0.9974582304694569)]\n",
            "Customer: C0014 -> Lookalikes: [('C0097', 0.9987194918246621), ('C0043', 0.997028656874292), ('C0032', 0.9962680059155485)]\n",
            "Customer: C0015 -> Lookalikes: [('C0058', 0.9988538808142926), ('C0186', 0.9942941310767258), ('C0131', 0.9925119270458044)]\n",
            "Customer: C0016 -> Lookalikes: [('C0040', 0.9996938077843687), ('C0107', 0.998853319148621), ('C0066', 0.9979863451056683)]\n",
            "Customer: C0017 -> Lookalikes: [('C0113', 0.9996650162383117), ('C0084', 0.9947513763012199), ('C0008', 0.993173208985394)]\n",
            "Customer: C0018 -> Lookalikes: [('C0041', 0.9939468680584729), ('C0068', 0.9928505306919447), ('C0004', 0.9899798786769836)]\n",
            "Customer: C0019 -> Lookalikes: [('C0166', 0.9972891718322159), ('C0031', 0.9942266796584924), ('C0088', 0.988374423934766)]\n",
            "Customer: C0020 -> Lookalikes: [('C0005', 0.99971426883456), ('C0128', 0.9995779165091033), ('C0167', 0.9995081896622053)]\n"
          ]
        }
      ]
    },
    {
      "cell_type": "markdown",
      "source": [
        "**Step 9: Download the CSV file to the device.**"
      ],
      "metadata": {
        "id": "gL7jL7ofusNS"
      }
    },
    {
      "cell_type": "code",
      "source": [
        "from google.colab import files\n",
        "files.download('Lookalike.csv')"
      ],
      "metadata": {
        "colab": {
          "base_uri": "https://localhost:8080/",
          "height": 17
        },
        "id": "7qmdXE46uIZK",
        "outputId": "894373c3-6415-4da4-d0f5-979765837ee7"
      },
      "execution_count": null,
      "outputs": [
        {
          "output_type": "display_data",
          "data": {
            "text/plain": [
              "<IPython.core.display.Javascript object>"
            ],
            "application/javascript": [
              "\n",
              "    async function download(id, filename, size) {\n",
              "      if (!google.colab.kernel.accessAllowed) {\n",
              "        return;\n",
              "      }\n",
              "      const div = document.createElement('div');\n",
              "      const label = document.createElement('label');\n",
              "      label.textContent = `Downloading \"${filename}\": `;\n",
              "      div.appendChild(label);\n",
              "      const progress = document.createElement('progress');\n",
              "      progress.max = size;\n",
              "      div.appendChild(progress);\n",
              "      document.body.appendChild(div);\n",
              "\n",
              "      const buffers = [];\n",
              "      let downloaded = 0;\n",
              "\n",
              "      const channel = await google.colab.kernel.comms.open(id);\n",
              "      // Send a message to notify the kernel that we're ready.\n",
              "      channel.send({})\n",
              "\n",
              "      for await (const message of channel.messages) {\n",
              "        // Send a message to notify the kernel that we're ready.\n",
              "        channel.send({})\n",
              "        if (message.buffers) {\n",
              "          for (const buffer of message.buffers) {\n",
              "            buffers.push(buffer);\n",
              "            downloaded += buffer.byteLength;\n",
              "            progress.value = downloaded;\n",
              "          }\n",
              "        }\n",
              "      }\n",
              "      const blob = new Blob(buffers, {type: 'application/binary'});\n",
              "      const a = document.createElement('a');\n",
              "      a.href = window.URL.createObjectURL(blob);\n",
              "      a.download = filename;\n",
              "      div.appendChild(a);\n",
              "      a.click();\n",
              "      div.remove();\n",
              "    }\n",
              "  "
            ]
          },
          "metadata": {}
        },
        {
          "output_type": "display_data",
          "data": {
            "text/plain": [
              "<IPython.core.display.Javascript object>"
            ],
            "application/javascript": [
              "download(\"download_ce1fca4d-dd87-4789-9694-5c1c53883b23\", \"Lookalike.csv\", 2049)"
            ]
          },
          "metadata": {}
        }
      ]
    }
  ]
}